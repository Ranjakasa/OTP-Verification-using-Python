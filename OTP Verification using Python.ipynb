{
 "cells": [
  {
   "cell_type": "code",
   "execution_count": 1,
   "id": "4e1499c5",
   "metadata": {},
   "outputs": [],
   "source": [
    "import os\n",
    "import math\n",
    "import random\n",
    "import smtplib"
   ]
  },
  {
   "cell_type": "code",
   "execution_count": 2,
   "id": "8a0b22bc",
   "metadata": {},
   "outputs": [
    {
     "name": "stdout",
     "output_type": "stream",
     "text": [
      "Generated OTP: 8360\n",
      "OTP Verified!\n"
     ]
    }
   ],
   "source": [
    "from tkinter import *\n",
    "import random\n",
    "\n",
    "class OTPVerificationApp:\n",
    "    def __init__(self, root):\n",
    "        self.root = root\n",
    "        self.root.title(\"OTP Verification\")\n",
    "        self.root.geometry(\"300x200\")\n",
    "        \n",
    "        self.generate_otp()\n",
    "        \n",
    "        self.label = Label(root, text=\"Enter OTP:\")\n",
    "        self.label.pack()\n",
    "        \n",
    "        self.otp_entry = Entry(root)\n",
    "        self.otp_entry.pack()\n",
    "        \n",
    "        self.verify_button = Button(root, text=\"Verify\", command=self.verify_otp)\n",
    "        self.verify_button.pack()\n",
    "        \n",
    "    def generate_otp(self):\n",
    "        self.otp = random.randint(1000, 9999)\n",
    "        print(\"Generated OTP:\", self.otp)\n",
    "        \n",
    "    def verify_otp(self):\n",
    "        user_otp = int(self.otp_entry.get())\n",
    "        if user_otp == self.otp:\n",
    "            print(\"OTP Verified!\")\n",
    "        else:\n",
    "            print(\"Incorrect OTP!\")\n",
    "        \n",
    "root = Tk()\n",
    "otp_app = OTPVerificationApp(root)\n",
    "root.mainloop()"
   ]
  },
  {
   "cell_type": "code",
   "execution_count": null,
   "id": "07d23de3",
   "metadata": {},
   "outputs": [],
   "source": []
  }
 ],
 "metadata": {
  "kernelspec": {
   "display_name": "Python 3 (ipykernel)",
   "language": "python",
   "name": "python3"
  },
  "language_info": {
   "codemirror_mode": {
    "name": "ipython",
    "version": 3
   },
   "file_extension": ".py",
   "mimetype": "text/x-python",
   "name": "python",
   "nbconvert_exporter": "python",
   "pygments_lexer": "ipython3",
   "version": "3.9.12"
  }
 },
 "nbformat": 4,
 "nbformat_minor": 5
}
